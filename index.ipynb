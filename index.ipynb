{
 "cells": [
  {
   "cell_type": "markdown",
   "metadata": {},
   "source": [
    "# Performing Principal Component Analysis (PCA) - Lab\n",
    "\n",
    "## Introduction\n",
    "\n",
    "Now that you have a high-level overview of PCA, as well as some of the details of the algorithm itself, it's time to practice implementing PCA on your own using the NumPy package. \n",
    "\n",
    "## Objectives\n",
    "\n",
    "You will be able to:\n",
    "    \n",
    "* Implement PCA from scratch using NumPy"
   ]
  },
  {
   "cell_type": "markdown",
   "metadata": {},
   "source": [
    "## Import the data\n",
    "\n",
    "- Import the data stored in the file `'foodusa.csv'` (set `index_col=0`)\n",
    "- Print the first five rows of the DataFrame "
   ]
  },
  {
   "cell_type": "code",
   "execution_count": 2,
   "metadata": {
    "ExecuteTime": {
     "end_time": "2020-07-15T16:42:45.958003Z",
     "start_time": "2020-07-15T16:42:45.893851Z"
    }
   },
   "outputs": [
    {
     "data": {
      "text/html": [
       "<div>\n",
       "<style scoped>\n",
       "    .dataframe tbody tr th:only-of-type {\n",
       "        vertical-align: middle;\n",
       "    }\n",
       "\n",
       "    .dataframe tbody tr th {\n",
       "        vertical-align: top;\n",
       "    }\n",
       "\n",
       "    .dataframe thead th {\n",
       "        text-align: right;\n",
       "    }\n",
       "</style>\n",
       "<table border=\"1\" class=\"dataframe\">\n",
       "  <thead>\n",
       "    <tr style=\"text-align: right;\">\n",
       "      <th></th>\n",
       "      <th>Bread</th>\n",
       "      <th>Burger</th>\n",
       "      <th>Milk</th>\n",
       "      <th>Oranges</th>\n",
       "      <th>Tomatoes</th>\n",
       "    </tr>\n",
       "    <tr>\n",
       "      <th>City</th>\n",
       "      <th></th>\n",
       "      <th></th>\n",
       "      <th></th>\n",
       "      <th></th>\n",
       "      <th></th>\n",
       "    </tr>\n",
       "  </thead>\n",
       "  <tbody>\n",
       "    <tr>\n",
       "      <th>ATLANTA</th>\n",
       "      <td>24.5</td>\n",
       "      <td>94.5</td>\n",
       "      <td>73.9</td>\n",
       "      <td>80.1</td>\n",
       "      <td>41.6</td>\n",
       "    </tr>\n",
       "    <tr>\n",
       "      <th>BALTIMORE</th>\n",
       "      <td>26.5</td>\n",
       "      <td>91.0</td>\n",
       "      <td>67.5</td>\n",
       "      <td>74.6</td>\n",
       "      <td>53.3</td>\n",
       "    </tr>\n",
       "    <tr>\n",
       "      <th>BOSTON</th>\n",
       "      <td>29.7</td>\n",
       "      <td>100.8</td>\n",
       "      <td>61.4</td>\n",
       "      <td>104.0</td>\n",
       "      <td>59.6</td>\n",
       "    </tr>\n",
       "    <tr>\n",
       "      <th>BUFFALO</th>\n",
       "      <td>22.8</td>\n",
       "      <td>86.6</td>\n",
       "      <td>65.3</td>\n",
       "      <td>118.4</td>\n",
       "      <td>51.2</td>\n",
       "    </tr>\n",
       "    <tr>\n",
       "      <th>CHICAGO</th>\n",
       "      <td>26.7</td>\n",
       "      <td>86.7</td>\n",
       "      <td>62.7</td>\n",
       "      <td>105.9</td>\n",
       "      <td>51.2</td>\n",
       "    </tr>\n",
       "  </tbody>\n",
       "</table>\n",
       "</div>"
      ],
      "text/plain": [
       "           Bread  Burger  Milk  Oranges  Tomatoes\n",
       "City                                             \n",
       "ATLANTA     24.5    94.5  73.9     80.1      41.6\n",
       "BALTIMORE   26.5    91.0  67.5     74.6      53.3\n",
       "BOSTON      29.7   100.8  61.4    104.0      59.6\n",
       "BUFFALO     22.8    86.6  65.3    118.4      51.2\n",
       "CHICAGO     26.7    86.7  62.7    105.9      51.2"
      ]
     },
     "execution_count": 2,
     "metadata": {},
     "output_type": "execute_result"
    }
   ],
   "source": [
    "import pandas as pd\n",
    "data = pd.read_csv('foodusa.csv', index_col=0)\n",
    "data.head()\n"
   ]
  },
  {
   "cell_type": "markdown",
   "metadata": {},
   "source": [
    "## Normalize the data\n",
    "\n",
    "Next, normalize your data by subtracting the mean from each of the columns."
   ]
  },
  {
   "cell_type": "code",
   "execution_count": 3,
   "metadata": {
    "ExecuteTime": {
     "end_time": "2020-07-15T16:43:01.997764Z",
     "start_time": "2020-07-15T16:43:01.946882Z"
    }
   },
   "outputs": [
    {
     "data": {
      "text/html": [
       "<div>\n",
       "<style scoped>\n",
       "    .dataframe tbody tr th:only-of-type {\n",
       "        vertical-align: middle;\n",
       "    }\n",
       "\n",
       "    .dataframe tbody tr th {\n",
       "        vertical-align: top;\n",
       "    }\n",
       "\n",
       "    .dataframe thead th {\n",
       "        text-align: right;\n",
       "    }\n",
       "</style>\n",
       "<table border=\"1\" class=\"dataframe\">\n",
       "  <thead>\n",
       "    <tr style=\"text-align: right;\">\n",
       "      <th></th>\n",
       "      <th>Bread</th>\n",
       "      <th>Burger</th>\n",
       "      <th>Milk</th>\n",
       "      <th>Oranges</th>\n",
       "      <th>Tomatoes</th>\n",
       "    </tr>\n",
       "    <tr>\n",
       "      <th>City</th>\n",
       "      <th></th>\n",
       "      <th></th>\n",
       "      <th></th>\n",
       "      <th></th>\n",
       "      <th></th>\n",
       "    </tr>\n",
       "  </thead>\n",
       "  <tbody>\n",
       "    <tr>\n",
       "      <th>ATLANTA</th>\n",
       "      <td>-0.791304</td>\n",
       "      <td>2.643478</td>\n",
       "      <td>11.604348</td>\n",
       "      <td>-22.891304</td>\n",
       "      <td>-7.165217</td>\n",
       "    </tr>\n",
       "    <tr>\n",
       "      <th>BALTIMORE</th>\n",
       "      <td>1.208696</td>\n",
       "      <td>-0.856522</td>\n",
       "      <td>5.204348</td>\n",
       "      <td>-28.391304</td>\n",
       "      <td>4.534783</td>\n",
       "    </tr>\n",
       "    <tr>\n",
       "      <th>BOSTON</th>\n",
       "      <td>4.408696</td>\n",
       "      <td>8.943478</td>\n",
       "      <td>-0.895652</td>\n",
       "      <td>1.008696</td>\n",
       "      <td>10.834783</td>\n",
       "    </tr>\n",
       "    <tr>\n",
       "      <th>BUFFALO</th>\n",
       "      <td>-2.491304</td>\n",
       "      <td>-5.256522</td>\n",
       "      <td>3.004348</td>\n",
       "      <td>15.408696</td>\n",
       "      <td>2.434783</td>\n",
       "    </tr>\n",
       "    <tr>\n",
       "      <th>CHICAGO</th>\n",
       "      <td>1.408696</td>\n",
       "      <td>-5.156522</td>\n",
       "      <td>0.404348</td>\n",
       "      <td>2.908696</td>\n",
       "      <td>2.434783</td>\n",
       "    </tr>\n",
       "  </tbody>\n",
       "</table>\n",
       "</div>"
      ],
      "text/plain": [
       "              Bread    Burger       Milk    Oranges   Tomatoes\n",
       "City                                                          \n",
       "ATLANTA   -0.791304  2.643478  11.604348 -22.891304  -7.165217\n",
       "BALTIMORE  1.208696 -0.856522   5.204348 -28.391304   4.534783\n",
       "BOSTON     4.408696  8.943478  -0.895652   1.008696  10.834783\n",
       "BUFFALO   -2.491304 -5.256522   3.004348  15.408696   2.434783\n",
       "CHICAGO    1.408696 -5.156522   0.404348   2.908696   2.434783"
      ]
     },
     "execution_count": 3,
     "metadata": {},
     "output_type": "execute_result"
    }
   ],
   "source": [
    "data = data - data.mean()\n",
    "data.head()"
   ]
  },
  {
   "cell_type": "markdown",
   "metadata": {},
   "source": [
    "## Calculate the covariance matrix\n",
    "\n",
    "The next step is to calculate the covariance matrix for your normalized data. "
   ]
  },
  {
   "cell_type": "code",
   "execution_count": 4,
   "metadata": {
    "ExecuteTime": {
     "end_time": "2020-07-15T16:44:07.546890Z",
     "start_time": "2020-07-15T16:44:07.422763Z"
    }
   },
   "outputs": [
    {
     "data": {
      "text/plain": [
       "array([[  6.2844664 ,  12.91096838,   5.71905138,   1.31037549,\n",
       "          7.28513834],\n",
       "       [ 12.91096838,  57.07711462,  17.50752964,  22.69187747,\n",
       "         36.29478261],\n",
       "       [  5.71905138,  17.50752964,  48.30588933,  -0.27503953,\n",
       "         13.44347826],\n",
       "       [  1.31037549,  22.69187747,  -0.27503953, 202.75628458,\n",
       "         38.76241107],\n",
       "       [  7.28513834,  36.29478261,  13.44347826,  38.76241107,\n",
       "         57.80055336]])"
      ]
     },
     "execution_count": 4,
     "metadata": {},
     "output_type": "execute_result"
    }
   ],
   "source": [
    "cov_mat = np.cov([data.Bread, data.Burger, data.Milk, data.Oranges, data.Tomatoes])\n",
    "cov_mat"
   ]
  },
  {
   "cell_type": "markdown",
   "metadata": {},
   "source": [
    "## Calculate the eigenvectors\n",
    "\n",
    "Next, calculate the eigenvectors and eigenvalues for your covariance matrix. "
   ]
  },
  {
   "cell_type": "code",
   "execution_count": 6,
   "metadata": {
    "ExecuteTime": {
     "end_time": "2020-07-15T16:44:58.846512Z",
     "start_time": "2020-07-15T16:44:58.565289Z"
    }
   },
   "outputs": [],
   "source": [
    "import numpy as np\n",
    "eig_values, eig_vectors = np.linalg.eig(cov_mat)"
   ]
  },
  {
   "cell_type": "code",
   "execution_count": 7,
   "metadata": {
    "ExecuteTime": {
     "end_time": "2020-07-15T16:45:03.171625Z",
     "start_time": "2020-07-15T16:45:03.166506Z"
    }
   },
   "outputs": [
    {
     "data": {
      "text/plain": [
       "array([218.99867893,  91.72316894,   3.02922934,  20.81054128,\n",
       "        37.66268981])"
      ]
     },
     "execution_count": 7,
     "metadata": {},
     "output_type": "execute_result"
    }
   ],
   "source": [
    "eig_values"
   ]
  },
  {
   "cell_type": "code",
   "execution_count": 8,
   "metadata": {
    "ExecuteTime": {
     "end_time": "2020-07-15T16:45:07.333966Z",
     "start_time": "2020-07-15T16:45:07.328308Z"
    }
   },
   "outputs": [
    {
     "data": {
      "text/plain": [
       "array([[-0.02848905, -0.16532108, -0.96716354, -0.18972574,  0.02135748],\n",
       "       [-0.2001224 , -0.63218494,  0.24877074, -0.65862454,  0.25420475],\n",
       "       [-0.0416723 , -0.44215032,  0.03606094,  0.10765906, -0.88874949],\n",
       "       [-0.93885906,  0.31435473, -0.01521357, -0.06904699, -0.12135003],\n",
       "       [-0.27558389, -0.52791603, -0.03429221,  0.71684022,  0.36100184]])"
      ]
     },
     "execution_count": 8,
     "metadata": {},
     "output_type": "execute_result"
    }
   ],
   "source": [
    "eig_vectors"
   ]
  },
  {
   "cell_type": "markdown",
   "metadata": {},
   "source": [
    "## Sort the eigenvectors \n",
    "\n",
    "Great! Now that you have the eigenvectors and their associated eigenvalues, sort the eigenvectors based on their eigenvalues to determine primary components!"
   ]
  },
  {
   "cell_type": "code",
   "execution_count": 13,
   "metadata": {
    "ExecuteTime": {
     "end_time": "2020-07-15T16:47:52.935434Z",
     "start_time": "2020-07-15T16:47:52.929871Z"
    }
   },
   "outputs": [
    {
     "data": {
      "text/plain": [
       "array([0, 1, 4, 3, 2])"
      ]
     },
     "execution_count": 13,
     "metadata": {},
     "output_type": "execute_result"
    }
   ],
   "source": [
    "# Get the index values of the sorted eigenvalues\n",
    "e_indices = np.argsort(eig_values)[::-1] # [::-1] creates a view of the np.array in reverse order\n",
    "e_indices"
   ]
  },
  {
   "cell_type": "code",
   "execution_count": 16,
   "metadata": {
    "ExecuteTime": {
     "end_time": "2020-07-15T16:50:34.587402Z",
     "start_time": "2020-07-15T16:50:34.582017Z"
    }
   },
   "outputs": [
    {
     "data": {
      "text/plain": [
       "array([[-0.02848905, -0.16532108,  0.02135748, -0.18972574, -0.96716354],\n",
       "       [-0.2001224 , -0.63218494,  0.25420475, -0.65862454,  0.24877074],\n",
       "       [-0.0416723 , -0.44215032, -0.88874949,  0.10765906,  0.03606094],\n",
       "       [-0.93885906,  0.31435473, -0.12135003, -0.06904699, -0.01521357],\n",
       "       [-0.27558389, -0.52791603,  0.36100184,  0.71684022, -0.03429221]])"
      ]
     },
     "execution_count": 16,
     "metadata": {},
     "output_type": "execute_result"
    }
   ],
   "source": [
    "# Sort \n",
    "eigenvectors_sorted = eig_vectors[:,e_indices] # [:, e_indices] sorts the rows by the index indicated by e_indices\n",
    "eigenvectors_sorted"
   ]
  },
  {
   "cell_type": "markdown",
   "metadata": {},
   "source": [
    "## Reprojecting the data\n",
    "\n",
    "Finally, reproject the dataset using your eigenvectors. Reproject this dataset down to 2 dimensions."
   ]
  },
  {
   "cell_type": "code",
   "execution_count": 17,
   "metadata": {
    "ExecuteTime": {
     "end_time": "2020-07-15T16:53:32.432152Z",
     "start_time": "2020-07-15T16:53:32.423177Z"
    }
   },
   "outputs": [
    {
     "data": {
      "text/plain": [
       "array([[ 1.11063671e+01,  1.47313493e+01, -1.41720384e+01,\n",
       "         1.85530932e+00, -1.31519693e+01],\n",
       "       [ 1.21900301e+00,  2.14498941e+01, -7.19007196e+00,\n",
       "        -1.44250494e-01, -1.85096828e+01],\n",
       "       [-1.22936562e+01, -4.73286484e+00, -2.84276415e+00,\n",
       "        -1.45351480e+00, -5.90817824e+00],\n",
       "       [-4.27410508e+00, -4.95746329e+00,  1.50456490e+00,\n",
       "        -7.78972241e-01,  1.55082192e+01],\n",
       "       [-2.08570219e+00,  1.77071529e+00,  2.26283823e+00,\n",
       "        -3.23048970e+00,  4.48154292e+00],\n",
       "       [ 2.02322957e+00, -4.83130671e+00, -6.11053639e+00,\n",
       "         3.51881382e+00, -7.79622091e+00],\n",
       "       [ 7.65139684e-01, -5.78241861e+00,  1.10305914e+01,\n",
       "         2.06281561e+00,  4.46446433e+00],\n",
       "       [ 5.01990281e+00, -7.08302707e+00,  4.06579025e+00,\n",
       "        -1.07688088e+00,  1.49042564e+01],\n",
       "       [-5.28963606e+00, -7.18560259e+00,  9.68250581e+00,\n",
       "         2.48951246e+00,  1.42270390e-01],\n",
       "       [-2.02949124e+01, -2.18073279e+01, -1.85701795e+01,\n",
       "        -3.80426303e+00,  1.91562387e+01],\n",
       "       [ 6.65984778e+00,  1.94000258e+00, -7.42416849e-01,\n",
       "        -7.45442129e-01,  1.14090012e+01],\n",
       "       [ 6.31128707e+00,  2.48929146e+00, -1.91129558e+00,\n",
       "        -1.83629547e+00,  1.15031956e+00],\n",
       "       [ 1.41212720e+01,  1.05305030e+01,  3.92251421e+00,\n",
       "        -1.55403072e-02, -1.54844202e+01],\n",
       "       [-6.30360841e+00, -4.25846371e+00,  9.88972851e+00,\n",
       "         4.32139840e+00,  5.63817529e+00],\n",
       "       [-2.70119271e+00, -4.22170394e+00,  9.50975319e+00,\n",
       "         1.78134773e+00, -1.65325881e+00],\n",
       "       [-1.73910140e+01, -1.14694373e+01, -1.08906817e+01,\n",
       "        -2.05853787e-01, -7.51438474e+00],\n",
       "       [-1.15197783e+01,  7.50279463e+00, -4.14838913e+00,\n",
       "         4.95715366e-01, -2.44760089e+00],\n",
       "       [-3.85046231e+00, -1.21140036e+01,  1.79610605e+00,\n",
       "        -4.67219399e-01,  7.21772639e+00],\n",
       "       [ 2.74271656e-02, -9.57890292e+00,  2.24969857e+00,\n",
       "        -1.57949530e+00,  7.60802586e+00],\n",
       "       [ 1.60893014e+01,  7.15585369e+00,  6.72507136e+00,\n",
       "        -1.21033801e+00, -4.51050864e+00],\n",
       "       [ 7.92495397e+00,  7.66673795e-01,  5.22195144e+00,\n",
       "        -1.76459983e+00,  1.85791557e-01],\n",
       "       [ 8.40796253e+00,  1.63033381e+01,  5.21880132e+00,\n",
       "        -9.13788367e-01, -2.55655946e-01],\n",
       "       [ 6.32837355e+00,  1.33821066e+01, -6.50154157e+00,\n",
       "         2.70203105e+00, -1.46341513e+01]])"
      ]
     },
     "execution_count": 17,
     "metadata": {},
     "output_type": "execute_result"
    }
   ],
   "source": [
    "transformed = eigenvectors_sorted.dot(data.T).T\n",
    "transformed"
   ]
  },
  {
   "cell_type": "code",
   "execution_count": 18,
   "metadata": {
    "ExecuteTime": {
     "end_time": "2020-07-15T16:55:51.320630Z",
     "start_time": "2020-07-15T16:55:51.316308Z"
    }
   },
   "outputs": [],
   "source": [
    "two_d = eigenvectors_sorted[:2].dot(data.T).T"
   ]
  },
  {
   "cell_type": "code",
   "execution_count": 19,
   "metadata": {
    "ExecuteTime": {
     "end_time": "2020-07-15T16:55:57.093476Z",
     "start_time": "2020-07-15T16:55:57.087654Z"
    }
   },
   "outputs": [
    {
     "data": {
      "text/plain": [
       "array([[ 11.10636706,  14.73134932],\n",
       "       [  1.21900301,  21.44989411],\n",
       "       [-12.29365615,  -4.73286484],\n",
       "       [ -4.27410508,  -4.95746329],\n",
       "       [ -2.08570219,   1.77071529],\n",
       "       [  2.02322957,  -4.83130671],\n",
       "       [  0.76513968,  -5.78241861],\n",
       "       [  5.01990281,  -7.08302707],\n",
       "       [ -5.28963606,  -7.18560259],\n",
       "       [-20.29491244, -21.8073279 ],\n",
       "       [  6.65984778,   1.94000258],\n",
       "       [  6.31128707,   2.48929146],\n",
       "       [ 14.12127203,  10.53050299],\n",
       "       [ -6.30360841,  -4.25846371],\n",
       "       [ -2.70119271,  -4.22170394],\n",
       "       [-17.39101398, -11.4694373 ],\n",
       "       [-11.5197783 ,   7.50279463],\n",
       "       [ -3.85046231, -12.11400365],\n",
       "       [  0.02742717,  -9.57890292],\n",
       "       [ 16.08930141,   7.15585369],\n",
       "       [  7.92495397,   0.76667379],\n",
       "       [  8.40796253,  16.30333807],\n",
       "       [  6.32837355,  13.38210659]])"
      ]
     },
     "execution_count": 19,
     "metadata": {},
     "output_type": "execute_result"
    }
   ],
   "source": [
    "two_d"
   ]
  },
  {
   "cell_type": "markdown",
   "metadata": {},
   "source": [
    "## Summary\n",
    "\n",
    "Well done! You've now coded PCA on your own using NumPy! With that, it's time to look at further applications of PCA."
   ]
  }
 ],
 "metadata": {
  "kernelspec": {
   "display_name": "learn-env",
   "language": "python",
   "name": "learn-env"
  },
  "language_info": {
   "codemirror_mode": {
    "name": "ipython",
    "version": 3
   },
   "file_extension": ".py",
   "mimetype": "text/x-python",
   "name": "python",
   "nbconvert_exporter": "python",
   "pygments_lexer": "ipython3",
   "version": "3.6.9"
  },
  "toc": {
   "base_numbering": 1,
   "nav_menu": {},
   "number_sections": true,
   "sideBar": true,
   "skip_h1_title": false,
   "title_cell": "Table of Contents",
   "title_sidebar": "Contents",
   "toc_cell": false,
   "toc_position": {},
   "toc_section_display": true,
   "toc_window_display": false
  },
  "varInspector": {
   "cols": {
    "lenName": 16,
    "lenType": 16,
    "lenVar": 40
   },
   "kernels_config": {
    "python": {
     "delete_cmd_postfix": "",
     "delete_cmd_prefix": "del ",
     "library": "var_list.py",
     "varRefreshCmd": "print(var_dic_list())"
    },
    "r": {
     "delete_cmd_postfix": ") ",
     "delete_cmd_prefix": "rm(",
     "library": "var_list.r",
     "varRefreshCmd": "cat(var_dic_list()) "
    }
   },
   "types_to_exclude": [
    "module",
    "function",
    "builtin_function_or_method",
    "instance",
    "_Feature"
   ],
   "window_display": false
  }
 },
 "nbformat": 4,
 "nbformat_minor": 2
}
